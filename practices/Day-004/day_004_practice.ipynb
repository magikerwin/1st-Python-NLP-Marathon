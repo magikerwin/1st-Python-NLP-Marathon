{
 "cells": [
  {
   "cell_type": "markdown",
   "metadata": {
    "colab_type": "text",
    "id": "tTJolmzeBLGr"
   },
   "source": [
    "# 作業目標: 使用python正規表達式對資料進行清洗處理\n",
    "\n",
    "這份作業我們會使用詐欺郵件的文本資料來作為清洗與處理的操作。\n",
    "[資料集](https://www.kaggle.com/rtatman/fraudulent-email-corpus/data#)"
   ]
  },
  {
   "cell_type": "markdown",
   "metadata": {
    "colab_type": "text",
    "id": "vhv0OElTBLGs"
   },
   "source": [
    "### 讀入資料文本\n",
    "因原始文本較大，先使用部份擷取的**sample_emails.txt**來進行練習"
   ]
  },
  {
   "cell_type": "code",
   "execution_count": 1,
   "metadata": {
    "colab": {},
    "colab_type": "code",
    "id": "a0BdDqt1BLGt"
   },
   "outputs": [],
   "source": [
    "#讀取文本資料\n",
    "with open(\"./sample_emails.txt\", \"r\") as f:\n",
    "    sample_corpus = f.read()"
   ]
  },
  {
   "cell_type": "code",
   "execution_count": 2,
   "metadata": {
    "colab": {},
    "colab_type": "code",
    "id": "XQbjXNKdBLGx",
    "outputId": "97497027-4c29-4dcf-9cf4-94b0081dac54",
    "scrolled": true
   },
   "outputs": [
    {
     "data": {
      "text/plain": [
       "'From r  Wed Oct 30 21:41:56 2002\\nReturn-Path: <james_ngola2002@maktoob.com>\\nX-Sieve: cmu-sieve 2.0\\nReturn-Path: <james_ngola2002@maktoob.com>\\nMessage-Id: <200210310241.g9V2fNm6028281@cs.CU>\\nFrom: \"MR. JAMES NGOLA.\" <james_ngola2002@maktoob.com>\\nReply-To: james_ngola2002@maktoob.com\\nTo: webmaster@aclweb.org\\nDate: Thu, 31 Oct 2002 02:38:20 +0000\\nSubject: URGENT BUSINESS ASSISTANCE AND PARTNERSHIP\\nX-Mailer: Microsoft Outlook Express 5.00.2919.6900 DM\\nMIME-Version: 1.0\\nContent-Type: text/plain; charset=\"us-ascii\"\\nContent-Transfer-Encoding: 8bit\\nX-MIME-Autoconverted: from quoted-printable to 8bit by sideshowmel.si.UM id g9V2foW24311\\nStatus: O\\n\\nFROM:MR. JAMES NGOLA.\\nCONFIDENTIAL TEL: 233-27-587908.\\nE-MAIL: (james_ngola2002@maktoob.com).\\n\\nURGENT BUSINESS ASSISTANCE AND PARTNERSHIP.\\n\\n\\nDEAR FRIEND,\\n\\nI AM ( DR.) JAMES NGOLA, THE PERSONAL ASSISTANCE TO THE LATE CONGOLESE (PRESIDENT LAURENT KABILA) WHO WAS ASSASSINATED BY HIS BODY GUARD ON 16TH JAN. 2001.\\n\\n\\nTHE INCIDENT OCCURRED IN OUR PRESENCE WH'"
      ]
     },
     "execution_count": 2,
     "metadata": {},
     "output_type": "execute_result"
    }
   ],
   "source": [
    "sample_corpus[:1000]"
   ]
  },
  {
   "cell_type": "markdown",
   "metadata": {
    "colab_type": "text",
    "id": "aUg8HenSBLG2"
   },
   "source": [
    "### 讀取寄件者資訊\n",
    "觀察文本資料可以發現, 寄件者資訊都符合以下格式\n",
    "\n",
    "`From: <收件者姓名> <收件者電子郵件>`"
   ]
  },
  {
   "cell_type": "code",
   "execution_count": 3,
   "metadata": {
    "colab": {},
    "colab_type": "code",
    "id": "YgsUuHsfBLG2"
   },
   "outputs": [
    {
     "data": {
      "text/plain": [
       "['From: \"MR. JAMES NGOLA.\" <james_ngola2002@maktoob.com>',\n",
       " 'From: \"Mr. Ben Suleman\" <bensul2004nng@spinfinder.com>',\n",
       " 'From: \"PRINCE OBONG ELEME\" <obong_715@epatra.com>']"
      ]
     },
     "execution_count": 3,
     "metadata": {},
     "output_type": "execute_result"
    }
   ],
   "source": [
    "#<your code>#\n",
    "import re\n",
    "match = re.findall(pattern=\"From:.*.com\\>\", string=sample_corpus)\n",
    "match"
   ]
  },
  {
   "cell_type": "markdown",
   "metadata": {
    "colab_type": "text",
    "id": "Ac8KHAqTBLG7"
   },
   "source": [
    "### 只讀取寄件者姓名"
   ]
  },
  {
   "cell_type": "code",
   "execution_count": 4,
   "metadata": {},
   "outputs": [
    {
     "name": "stdout",
     "output_type": "stream",
     "text": [
      "\"MR. JAMES NGOLA.\"\n",
      "\"Mr. Ben Suleman\"\n",
      "\"PRINCE OBONG ELEME\"\n"
     ]
    }
   ],
   "source": [
    "for line in match:\n",
    "    search_obj = re.search(pattern=\"\\\".+\\\"\", string=line)\n",
    "    if search_obj: print(search_obj.group())"
   ]
  },
  {
   "cell_type": "markdown",
   "metadata": {
    "colab_type": "text",
    "id": "gaJefecaBLG-"
   },
   "source": [
    "### 只讀取寄件者電子信箱"
   ]
  },
  {
   "cell_type": "code",
   "execution_count": 5,
   "metadata": {},
   "outputs": [
    {
     "name": "stdout",
     "output_type": "stream",
     "text": [
      "james_ngola2002@maktoob.com\n",
      "bensul2004nng@spinfinder.com\n",
      "obong_715@epatra.com\n"
     ]
    }
   ],
   "source": [
    "emails = []\n",
    "for line in match:\n",
    "    search_obj = re.search(pattern=\"\\w+@.+\\.com\", string=line)\n",
    "    if search_obj: \n",
    "        email = search_obj.group()\n",
    "        emails.append(email)\n",
    "        print(email)"
   ]
  },
  {
   "cell_type": "markdown",
   "metadata": {
    "colab_type": "text",
    "id": "t-RXjNLiBLHC"
   },
   "source": [
    "### 只讀取電子信箱中的寄件機構資訊\n",
    "ex: james_ngola2002@maktoob.com --> 取maktoob"
   ]
  },
  {
   "cell_type": "code",
   "execution_count": 6,
   "metadata": {},
   "outputs": [
    {
     "name": "stdout",
     "output_type": "stream",
     "text": [
      "maktoob\n",
      "spinfinder\n",
      "epatra\n"
     ]
    }
   ],
   "source": [
    "for email in emails:\n",
    "    search_obj = re.search(pattern=\"(?<=@)\\w+(?=\\.com)\", string=email)\n",
    "    if search_obj:\n",
    "        print(search_obj.group())"
   ]
  },
  {
   "cell_type": "markdown",
   "metadata": {
    "colab_type": "text",
    "id": "vfzkuLCWBLHG"
   },
   "source": [
    "### 結合上面的配對方式, 將寄件者的帳號與機構訊返回\n",
    "ex: james_ngola2002@maktoob.com --> [james_ngola2002, maktoob]"
   ]
  },
  {
   "cell_type": "code",
   "execution_count": 7,
   "metadata": {},
   "outputs": [
    {
     "name": "stdout",
     "output_type": "stream",
     "text": [
      "james_ngola2002, maktoob\n",
      "bensul2004nng, spinfinder\n",
      "obong_715, epatra\n"
     ]
    }
   ],
   "source": [
    "for email in emails:\n",
    "    findall_obj = re.findall(pattern=\".+(?=\\.com)\", string=email)\n",
    "    if len(findall_obj):\n",
    "        ta, tb = re.split(\"@\", findall_obj[0])\n",
    "        print(f\"{ta}, {tb}\")"
   ]
  },
  {
   "cell_type": "markdown",
   "metadata": {
    "colab_type": "text",
    "id": "Yl-BMduNBLHJ"
   },
   "source": [
    "### 使用正規表達式對email資料進行處理\n",
    "這裡我們會使用到python其他的套件協助處理(ex: pandas, email, etc)，這裡我們只需要專注在正規表達式上即可，其他的套件是方便我們整理與處理資料。"
   ]
  },
  {
   "cell_type": "markdown",
   "metadata": {
    "colab_type": "text",
    "id": "kqCacQ9tBLHJ"
   },
   "source": [
    "### 讀取與切分Email\n",
    "讀入的email為一個長字串，利用正規表達式切割讀入的資料成一封一封的email，並將結果以list表示。\n",
    "\n",
    "輸出: [email_1, email_2, email_3, ....]"
   ]
  },
  {
   "cell_type": "code",
   "execution_count": 8,
   "metadata": {},
   "outputs": [
    {
     "data": {
      "text/plain": [
       "3977"
      ]
     },
     "execution_count": 8,
     "metadata": {},
     "output_type": "execute_result"
    }
   ],
   "source": [
    "###讀取文本資料:fradulent_emails.txt###\n",
    "with open('all_emails.txt', 'r', encoding=\"utf-8\", errors='ignore') as f:\n",
    "    corpus = f.read()\n",
    "    \n",
    "###切割讀入的資料成一封一封的email###\n",
    "emails = re.split(pattern=\"From r\", string=corpus)\n",
    "\n",
    "###我們可以使用list來儲存每一封email###\n",
    "###注意！這裡請仔細觀察sample資料，看資料是如何切分不同email###\n",
    "#<your code>#\n",
    "emails = emails[1:]\n",
    "len(emails) #查看有多少封email"
   ]
  },
  {
   "cell_type": "markdown",
   "metadata": {
    "colab_type": "text",
    "id": "e9IN-2o0BLHM"
   },
   "source": [
    "### 從文本中擷取所有寄件者與收件者的姓名和地址"
   ]
  },
  {
   "cell_type": "code",
   "execution_count": 9,
   "metadata": {
    "colab": {},
    "colab_type": "code",
    "id": "d_WRYFpcBLHM"
   },
   "outputs": [],
   "source": [
    "import re\n",
    "import pandas as pd\n",
    "import email\n",
    "\n",
    "emails_list = [] #創建空list來儲存所有email資訊\n",
    "\n",
    "for mail in emails[:20]: #只取前20筆資料 (處理速度比較快)\n",
    "    emails_dict = dict() #創建空字典儲存資訊\n",
    "    ###取的寄件者姓名與地址###\n",
    "    \n",
    "    #Step1: 取的寄件者資訊 (hint: From:)\n",
    "    search_obj_sender = re.search(\"(?<=From\\:).*\\<.*\\>\", mail)\n",
    "    \n",
    "    #Step2: 取的姓名與地址 (hint: 要注意有時會有沒取到配對的情況)\n",
    "    if search_obj_sender:\n",
    "        search_obj_name = re.search(\"(?<=\\\").+(?=\\\")\", search_obj_sender.group())\n",
    "        search_obj_mail = re.search(\"(?<=\\<).+(?=\\>)\", search_obj_sender.group())\n",
    "        \n",
    "        #Step3: 將取得的姓名與地址存入字典中\n",
    "        if search_obj_name and search_obj_mail:\n",
    "            emails_dict['sender_name'] = search_obj_name.group()\n",
    "            emails_dict['sender_mail'] = search_obj_mail.group()\n",
    "        else:\n",
    "            emails_dict['sender_name'] = None\n",
    "            emails_dict['sender_mail'] = None\n",
    "\n",
    "    ###取的收件者姓名與地址###\n",
    "    \n",
    "    #Step1: 取的寄件者資訊 (hint: To:)\n",
    "    search_obj_recipient = re.search(\"(?<=\\nTo:).+\", mail)\n",
    "    \n",
    "    #Step2: 取的姓名與地址 (hint: 要注意有時會有沒取到配對的情況)\n",
    "    #Step3: 將取得的姓名與地址存入字典中\n",
    "    if search_obj_recipient:\n",
    "        emails_dict['recipient_name'] = search_obj_recipient.group().strip().split(\"@\")[0]\n",
    "        emails_dict['recipient_mail'] = search_obj_recipient.group().strip()\n",
    "    else:\n",
    "        emails_dict['recipient_name'] = None\n",
    "        emails_dict['recipient_mail'] = None\n",
    "        \n",
    "    ###取得信件日期###\n",
    "    #Step1: 取得日期資訊 (hint: To:)\n",
    "    search_obj_date = re.search(\"(?<=Date).*\", mail)\n",
    "\n",
    "    #Step2: 取得詳細日期(只需取得DD MMM YYYY)\n",
    "    #Step3: 將取得的日期資訊存入字典中\n",
    "    if search_obj_date:\n",
    "        data_info = search_obj_date.group()\n",
    "        emails_dict['date'] = re.search(\"\\d+\\s\\w+\\s\\d+\", data_info).group()\n",
    "    else:\n",
    "        emails_dict['date'] = None\n",
    "        \n",
    "    ###取得信件主旨###\n",
    "    #Step1: 取得主旨資訊 (hint: Subject:)\n",
    "    search_obj_subject = re.search(\"(?<=Subject:\\s).*\", mail)\n",
    "    \n",
    "    #Step2: 移除不必要文字 (hint: Subject: )\n",
    "    #Step3: 將取得的主旨存入字典中\n",
    "    if search_obj_subject:\n",
    "        emails_dict['subject']= search_obj_subject.group()\n",
    "    else:\n",
    "        emails_dict['subject']= None\n",
    "    \n",
    "    ###取得信件內文###\n",
    "    #這裡我們使用email package來取出email內文 (可以不需深究，本章節重點在正規表達式)\n",
    "    try:\n",
    "        full_email = email.message_from_string(mail)\n",
    "        body = full_email.get_payload()\n",
    "        emails_dict[\"email_body\"] = body\n",
    "    except:\n",
    "        emails_dict[\"email_body\"] = None\n",
    "    \n",
    "    ###將字典加入list###\n",
    "    emails_list.append(emails_dict)"
   ]
  },
  {
   "cell_type": "code",
   "execution_count": 10,
   "metadata": {
    "colab": {},
    "colab_type": "code",
    "id": "CBfQRiYPBLHP"
   },
   "outputs": [
    {
     "data": {
      "text/html": [
       "<div>\n",
       "<style scoped>\n",
       "    .dataframe tbody tr th:only-of-type {\n",
       "        vertical-align: middle;\n",
       "    }\n",
       "\n",
       "    .dataframe tbody tr th {\n",
       "        vertical-align: top;\n",
       "    }\n",
       "\n",
       "    .dataframe thead th {\n",
       "        text-align: right;\n",
       "    }\n",
       "</style>\n",
       "<table border=\"1\" class=\"dataframe\">\n",
       "  <thead>\n",
       "    <tr style=\"text-align: right;\">\n",
       "      <th></th>\n",
       "      <th>sender_name</th>\n",
       "      <th>sender_mail</th>\n",
       "      <th>recipient_name</th>\n",
       "      <th>recipient_mail</th>\n",
       "      <th>date</th>\n",
       "      <th>subject</th>\n",
       "      <th>email_body</th>\n",
       "    </tr>\n",
       "  </thead>\n",
       "  <tbody>\n",
       "    <tr>\n",
       "      <th>0</th>\n",
       "      <td>MR. JAMES NGOLA.</td>\n",
       "      <td>james_ngola2002@maktoob.com</td>\n",
       "      <td>webmaster</td>\n",
       "      <td>webmaster@aclweb.org</td>\n",
       "      <td>31 Oct 2002</td>\n",
       "      <td>URGENT BUSINESS ASSISTANCE AND PARTNERSHIP</td>\n",
       "      <td>FROM:MR. JAMES NGOLA.\\nCONFIDENTIAL TEL: 233-2...</td>\n",
       "    </tr>\n",
       "    <tr>\n",
       "      <th>1</th>\n",
       "      <td>Mr. Ben Suleman</td>\n",
       "      <td>bensul2004nng@spinfinder.com</td>\n",
       "      <td>R</td>\n",
       "      <td>R@M</td>\n",
       "      <td>31 Oct 2002</td>\n",
       "      <td>URGENT ASSISTANCE /RELATIONSHIP (P)</td>\n",
       "      <td>Dear Friend,\\n\\nI am Mr. Ben Suleman a custom ...</td>\n",
       "    </tr>\n",
       "    <tr>\n",
       "      <th>2</th>\n",
       "      <td>PRINCE OBONG ELEME</td>\n",
       "      <td>obong_715@epatra.com</td>\n",
       "      <td>webmaster</td>\n",
       "      <td>webmaster@aclweb.org</td>\n",
       "      <td>31 Oct 2002</td>\n",
       "      <td>GOOD DAY TO YOU</td>\n",
       "      <td>FROM HIS ROYAL MAJESTY (HRM) CROWN RULER OF EL...</td>\n",
       "    </tr>\n",
       "    <tr>\n",
       "      <th>3</th>\n",
       "      <td>PRINCE OBONG ELEME</td>\n",
       "      <td>obong_715@epatra.com</td>\n",
       "      <td>webmaster</td>\n",
       "      <td>webmaster@aclweb.org</td>\n",
       "      <td>31 Oct 2002</td>\n",
       "      <td>GOOD DAY TO YOU</td>\n",
       "      <td>FROM HIS ROYAL MAJESTY (HRM) CROWN RULER OF EL...</td>\n",
       "    </tr>\n",
       "    <tr>\n",
       "      <th>4</th>\n",
       "      <td>Maryam Abacha</td>\n",
       "      <td>m_abacha03@www.com</td>\n",
       "      <td>R</td>\n",
       "      <td>R@M</td>\n",
       "      <td>1 Nov 2002</td>\n",
       "      <td>I Need Your Assistance.</td>\n",
       "      <td>Dear sir, \\n \\nIt is with a heart full of hope...</td>\n",
       "    </tr>\n",
       "    <tr>\n",
       "      <th>5</th>\n",
       "      <td>None</td>\n",
       "      <td>None</td>\n",
       "      <td>davidkuta</td>\n",
       "      <td>davidkuta@yahoo.com</td>\n",
       "      <td>02 Nov 2002</td>\n",
       "      <td>Partnership</td>\n",
       "      <td>ATTENTION:                                    ...</td>\n",
       "    </tr>\n",
       "    <tr>\n",
       "      <th>6</th>\n",
       "      <td>Barrister tunde dosumu</td>\n",
       "      <td>tunde_dosumu@lycos.com</td>\n",
       "      <td>None</td>\n",
       "      <td>None</td>\n",
       "      <td>None</td>\n",
       "      <td>Urgent Attention</td>\n",
       "      <td>Dear Sir,\\n\\nI am Barrister Tunde Dosumu (SAN)...</td>\n",
       "    </tr>\n",
       "    <tr>\n",
       "      <th>7</th>\n",
       "      <td>William Drallo</td>\n",
       "      <td>william2244drallo@maktoob.com</td>\n",
       "      <td>webmaster</td>\n",
       "      <td>webmaster@aclweb.org</td>\n",
       "      <td>3 Nov 2002</td>\n",
       "      <td>URGENT BUSINESS PRPOSAL</td>\n",
       "      <td>FROM: WILLIAM DRALLO.\\nCONFIDENTIAL TEL: 233-2...</td>\n",
       "    </tr>\n",
       "    <tr>\n",
       "      <th>8</th>\n",
       "      <td>MR USMAN ABDUL</td>\n",
       "      <td>abdul_817@rediffmail.com</td>\n",
       "      <td>R</td>\n",
       "      <td>R@M</td>\n",
       "      <td>04 Nov 2002</td>\n",
       "      <td>THANK YOU</td>\n",
       "      <td>CHALLENGE SECURITIES LTD.\\nLAGOS, NIGERIA\\n\\n\\...</td>\n",
       "    </tr>\n",
       "    <tr>\n",
       "      <th>9</th>\n",
       "      <td>Tunde  Dosumu</td>\n",
       "      <td>barrister_td@lycos.com</td>\n",
       "      <td>None</td>\n",
       "      <td>None</td>\n",
       "      <td>None</td>\n",
       "      <td>Urgent Assistance</td>\n",
       "      <td>Dear Sir,\\n\\nI am Barrister Tunde Dosumu (SAN)...</td>\n",
       "    </tr>\n",
       "    <tr>\n",
       "      <th>10</th>\n",
       "      <td>None</td>\n",
       "      <td>None</td>\n",
       "      <td>R</td>\n",
       "      <td>R@E</td>\n",
       "      <td>6 Nov 2001</td>\n",
       "      <td>IMPORTANT</td>\n",
       "      <td>FROM: MR TEMI JOHNSON\\nDEMOCRATIC REPUBLIC OF ...</td>\n",
       "    </tr>\n",
       "    <tr>\n",
       "      <th>11</th>\n",
       "      <td>Dr.Sam jordan</td>\n",
       "      <td>sjordan@diplomats.com</td>\n",
       "      <td>R</td>\n",
       "      <td>R@M</td>\n",
       "      <td>08 Nov 2002</td>\n",
       "      <td>URGENT ASSISTANCE.</td>\n",
       "      <td>FROM THE DESK OF DR.SAM JORDAN\\nTHE MANAGER\\nH...</td>\n",
       "    </tr>\n",
       "    <tr>\n",
       "      <th>12</th>\n",
       "      <td>NaN</td>\n",
       "      <td>NaN</td>\n",
       "      <td>webmaster</td>\n",
       "      <td>webmaster@aclweb.org</td>\n",
       "      <td>8 Nov 2002</td>\n",
       "      <td>From: Barrister Peter Brown</td>\n",
       "      <td>\\nSENIOR ADVOCATE OF NIGERIA\\nBARR. PETER BROW...</td>\n",
       "    </tr>\n",
       "    <tr>\n",
       "      <th>13</th>\n",
       "      <td>NaN</td>\n",
       "      <td>NaN</td>\n",
       "      <td>R</td>\n",
       "      <td>R@M</td>\n",
       "      <td>11 Nov 2002</td>\n",
       "      <td>MICHAEL</td>\n",
       "      <td>From;Mr.Michael Kamah and Family,\\n          J...</td>\n",
       "    </tr>\n",
       "    <tr>\n",
       "      <th>14</th>\n",
       "      <td>COL. MICHAEL BUNDU</td>\n",
       "      <td>mikebunduu1@rediffmail.com</td>\n",
       "      <td>R</td>\n",
       "      <td>R@E</td>\n",
       "      <td>13 Nov 2001</td>\n",
       "      <td>*****SPAM***** IMPORTANT</td>\n",
       "      <td>FROM: COL. MICHAEL BUNDU. \\nDEMOCRATIC REPUBLI...</td>\n",
       "    </tr>\n",
       "    <tr>\n",
       "      <th>15</th>\n",
       "      <td>MRS MARIAM ABACHA</td>\n",
       "      <td>elixwilliam@usa.com</td>\n",
       "      <td>webmaster</td>\n",
       "      <td>webmaster@aclweb.org</td>\n",
       "      <td>14 Nov 2002</td>\n",
       "      <td>TRUST TRANSACTION</td>\n",
       "      <td>Dear Sir,\\n\\nA Very Good day to you   \\n\\nI am...</td>\n",
       "    </tr>\n",
       "    <tr>\n",
       "      <th>16</th>\n",
       "      <td>DR. ANAYO AWKA</td>\n",
       "      <td>anayoawka@hotmail.com</td>\n",
       "      <td>webmaster</td>\n",
       "      <td>webmaster@aclweb.org</td>\n",
       "      <td>15 Nov 2002</td>\n",
       "      <td>REQUEST FOR YOUR UNRESERVED ASSISTANCE</td>\n",
       "      <td>FROM: DR. ANAYO AWKA BANK MANAGER \\n(UNION BAN...</td>\n",
       "    </tr>\n",
       "    <tr>\n",
       "      <th>17</th>\n",
       "      <td>DR. ANAYO AWKA</td>\n",
       "      <td>anayoawka@hotmail.com</td>\n",
       "      <td>webmaster</td>\n",
       "      <td>webmaster@aclweb.org</td>\n",
       "      <td>15 Nov 2002</td>\n",
       "      <td>REQUEST FOR YOUR UNRESERVED ASSISTANCE</td>\n",
       "      <td>FROM: DR. ANAYO AWKA BANK MANAGER \\n(UNION BAN...</td>\n",
       "    </tr>\n",
       "    <tr>\n",
       "      <th>18</th>\n",
       "      <td>Victor Aloma</td>\n",
       "      <td>victorloma@netscape.net</td>\n",
       "      <td>ntcir-listmem</td>\n",
       "      <td>ntcir-listmem@newns.op.nii.ac.jp</td>\n",
       "      <td>16 Nov 2002</td>\n",
       "      <td>Urgent Assistance</td>\n",
       "      <td>The Director,\\n\\n\\n\\n            SEEKING FOR I...</td>\n",
       "    </tr>\n",
       "    <tr>\n",
       "      <th>19</th>\n",
       "      <td>Victor Aloma</td>\n",
       "      <td>victorloma@netscape.net</td>\n",
       "      <td>ntcir-outgoing</td>\n",
       "      <td>ntcir-outgoing@nii.ac.jp</td>\n",
       "      <td>16 Nov 2002</td>\n",
       "      <td>Urgent Assistance</td>\n",
       "      <td>The Director,\\n\\n\\n\\n            SEEKING FOR I...</td>\n",
       "    </tr>\n",
       "  </tbody>\n",
       "</table>\n",
       "</div>"
      ],
      "text/plain": [
       "               sender_name                    sender_mail  recipient_name  \\\n",
       "0         MR. JAMES NGOLA.    james_ngola2002@maktoob.com       webmaster   \n",
       "1          Mr. Ben Suleman   bensul2004nng@spinfinder.com               R   \n",
       "2       PRINCE OBONG ELEME           obong_715@epatra.com       webmaster   \n",
       "3       PRINCE OBONG ELEME           obong_715@epatra.com       webmaster   \n",
       "4            Maryam Abacha             m_abacha03@www.com               R   \n",
       "5                     None                           None       davidkuta   \n",
       "6   Barrister tunde dosumu         tunde_dosumu@lycos.com            None   \n",
       "7           William Drallo  william2244drallo@maktoob.com       webmaster   \n",
       "8           MR USMAN ABDUL       abdul_817@rediffmail.com               R   \n",
       "9            Tunde  Dosumu         barrister_td@lycos.com            None   \n",
       "10                    None                           None               R   \n",
       "11           Dr.Sam jordan          sjordan@diplomats.com               R   \n",
       "12                     NaN                            NaN       webmaster   \n",
       "13                     NaN                            NaN               R   \n",
       "14      COL. MICHAEL BUNDU     mikebunduu1@rediffmail.com               R   \n",
       "15       MRS MARIAM ABACHA            elixwilliam@usa.com       webmaster   \n",
       "16         DR. ANAYO AWKA           anayoawka@hotmail.com       webmaster   \n",
       "17         DR. ANAYO AWKA           anayoawka@hotmail.com       webmaster   \n",
       "18            Victor Aloma        victorloma@netscape.net   ntcir-listmem   \n",
       "19            Victor Aloma        victorloma@netscape.net  ntcir-outgoing   \n",
       "\n",
       "                      recipient_mail         date  \\\n",
       "0               webmaster@aclweb.org  31 Oct 2002   \n",
       "1                                R@M  31 Oct 2002   \n",
       "2               webmaster@aclweb.org  31 Oct 2002   \n",
       "3               webmaster@aclweb.org  31 Oct 2002   \n",
       "4                                R@M   1 Nov 2002   \n",
       "5                davidkuta@yahoo.com  02 Nov 2002   \n",
       "6                               None         None   \n",
       "7               webmaster@aclweb.org   3 Nov 2002   \n",
       "8                                R@M  04 Nov 2002   \n",
       "9                               None         None   \n",
       "10                               R@E   6 Nov 2001   \n",
       "11                               R@M  08 Nov 2002   \n",
       "12              webmaster@aclweb.org   8 Nov 2002   \n",
       "13                               R@M  11 Nov 2002   \n",
       "14                               R@E  13 Nov 2001   \n",
       "15              webmaster@aclweb.org  14 Nov 2002   \n",
       "16              webmaster@aclweb.org  15 Nov 2002   \n",
       "17              webmaster@aclweb.org  15 Nov 2002   \n",
       "18  ntcir-listmem@newns.op.nii.ac.jp  16 Nov 2002   \n",
       "19          ntcir-outgoing@nii.ac.jp  16 Nov 2002   \n",
       "\n",
       "                                       subject  \\\n",
       "0   URGENT BUSINESS ASSISTANCE AND PARTNERSHIP   \n",
       "1          URGENT ASSISTANCE /RELATIONSHIP (P)   \n",
       "2                              GOOD DAY TO YOU   \n",
       "3                              GOOD DAY TO YOU   \n",
       "4                      I Need Your Assistance.   \n",
       "5                                  Partnership   \n",
       "6                             Urgent Attention   \n",
       "7                      URGENT BUSINESS PRPOSAL   \n",
       "8                                    THANK YOU   \n",
       "9                            Urgent Assistance   \n",
       "10                                   IMPORTANT   \n",
       "11                          URGENT ASSISTANCE.   \n",
       "12                 From: Barrister Peter Brown   \n",
       "13                                     MICHAEL   \n",
       "14                    *****SPAM***** IMPORTANT   \n",
       "15                           TRUST TRANSACTION   \n",
       "16      REQUEST FOR YOUR UNRESERVED ASSISTANCE   \n",
       "17      REQUEST FOR YOUR UNRESERVED ASSISTANCE   \n",
       "18                           Urgent Assistance   \n",
       "19                           Urgent Assistance   \n",
       "\n",
       "                                           email_body  \n",
       "0   FROM:MR. JAMES NGOLA.\\nCONFIDENTIAL TEL: 233-2...  \n",
       "1   Dear Friend,\\n\\nI am Mr. Ben Suleman a custom ...  \n",
       "2   FROM HIS ROYAL MAJESTY (HRM) CROWN RULER OF EL...  \n",
       "3   FROM HIS ROYAL MAJESTY (HRM) CROWN RULER OF EL...  \n",
       "4   Dear sir, \\n \\nIt is with a heart full of hope...  \n",
       "5   ATTENTION:                                    ...  \n",
       "6   Dear Sir,\\n\\nI am Barrister Tunde Dosumu (SAN)...  \n",
       "7   FROM: WILLIAM DRALLO.\\nCONFIDENTIAL TEL: 233-2...  \n",
       "8   CHALLENGE SECURITIES LTD.\\nLAGOS, NIGERIA\\n\\n\\...  \n",
       "9   Dear Sir,\\n\\nI am Barrister Tunde Dosumu (SAN)...  \n",
       "10  FROM: MR TEMI JOHNSON\\nDEMOCRATIC REPUBLIC OF ...  \n",
       "11  FROM THE DESK OF DR.SAM JORDAN\\nTHE MANAGER\\nH...  \n",
       "12  \\nSENIOR ADVOCATE OF NIGERIA\\nBARR. PETER BROW...  \n",
       "13  From;Mr.Michael Kamah and Family,\\n          J...  \n",
       "14  FROM: COL. MICHAEL BUNDU. \\nDEMOCRATIC REPUBLI...  \n",
       "15  Dear Sir,\\n\\nA Very Good day to you   \\n\\nI am...  \n",
       "16  FROM: DR. ANAYO AWKA BANK MANAGER \\n(UNION BAN...  \n",
       "17  FROM: DR. ANAYO AWKA BANK MANAGER \\n(UNION BAN...  \n",
       "18  The Director,\\n\\n\\n\\n            SEEKING FOR I...  \n",
       "19  The Director,\\n\\n\\n\\n            SEEKING FOR I...  "
      ]
     },
     "execution_count": 10,
     "metadata": {},
     "output_type": "execute_result"
    }
   ],
   "source": [
    "#將處理結果轉化為dataframe\n",
    "emails_df = pd.DataFrame(emails_list)\n",
    "emails_df"
   ]
  },
  {
   "cell_type": "code",
   "execution_count": null,
   "metadata": {},
   "outputs": [],
   "source": []
  }
 ],
 "metadata": {
  "colab": {
   "name": "Python_regular_expression_作業.ipynb",
   "provenance": []
  },
  "kernelspec": {
   "display_name": "torch",
   "language": "python",
   "name": "torch"
  },
  "language_info": {
   "codemirror_mode": {
    "name": "ipython",
    "version": 3
   },
   "file_extension": ".py",
   "mimetype": "text/x-python",
   "name": "python",
   "nbconvert_exporter": "python",
   "pygments_lexer": "ipython3",
   "version": "3.8.3"
  }
 },
 "nbformat": 4,
 "nbformat_minor": 4
}
