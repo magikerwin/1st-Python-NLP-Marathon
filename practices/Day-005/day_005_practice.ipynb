{
 "cells": [
  {
   "cell_type": "markdown",
   "metadata": {},
   "source": [
    "## 作業目標: 了解斷詞演算法的背後計算"
   ]
  },
  {
   "cell_type": "markdown",
   "metadata": {},
   "source": [
    "### 根據課程講述的內容, 請計算出下列剩餘所有情況的\n",
    "若有一個人連續觀察到三天水草都是乾燥的(Dry), 則這三天的天氣機率為何？(可參考講義第13頁)\n",
    "(Hint: 共有8種可能機率)\n",
    "\n",
    "```python\n",
    "states = ('sunny', 'rainy')\n",
    "observations = ('dry', 'damp', 'soggy')\n",
    "start_probability = {'sunny': 0.4, 'rainy': 0.6}\n",
    "transition_probability = {'sunny':{'sunny':0.6, 'rainy':0.4},\n",
    "                          'rainy': {'sunny':0.3, 'rainy':0.7}}\n",
    "emission_probatility = {'sunny': {'dry':0.6, 'damp':0.3, 'soggy':0.1},\n",
    "                        'rainy': {'dry':0.1, 'damp':0.4, 'soggy':0.5}}\n",
    "```"
   ]
  },
  {
   "cell_type": "markdown",
   "metadata": {},
   "source": [
    "```\n",
    "觀察狀態 = 'dry', 'dry', 'dry'\n",
    "Sunny, Sunny, Sunny: 0.4*(0.6)*0.6*(0.6)*0.6*(0.6) = 0.031104\n",
    "Rainy, Sunny, Sunny: 0.6*(0.1)*0.3*(0.6)*0.6*(0.6) = 0.003888\n",
    "###<your answers>###\n",
    "\n",
    "最大機率為: Sunny, Sunny, Sunny\n",
    "```"
   ]
  },
  {
   "cell_type": "markdown",
   "metadata": {},
   "source": [
    "## My answers"
   ]
  },
  {
   "cell_type": "code",
   "execution_count": 1,
   "metadata": {},
   "outputs": [
    {
     "name": "stdout",
     "output_type": "stream",
     "text": [
      "Sunny-->Sunny-->Sunny : 0.031103999999999993\n",
      "Sunny-->Sunny-->Rainy : 0.0034560000000000003\n",
      "Sunny-->Rainy-->Sunny : 0.0017280000000000002\n",
      "Sunny-->Rainy-->Rainy : 0.0006720000000000001\n",
      "Rainy-->Sunny-->Sunny : 0.003887999999999999\n",
      "Rainy-->Sunny-->Rainy : 0.00043200000000000004\n",
      "Rainy-->Rainy-->Sunny : 0.0007559999999999998\n",
      "Rainy-->Rainy-->Rainy : 0.000294\n"
     ]
    }
   ],
   "source": [
    "GoundTruths = {\n",
    "\"Sunny-->Sunny-->Sunny\" : 0.4 * (0.6) * 0.6 * (0.6) * 0.6 * (0.6),\n",
    "\"Sunny-->Sunny-->Rainy\" : 0.4 * (0.6) * 0.6 * (0.6) * 0.4 * (0.1),\n",
    "\"Sunny-->Rainy-->Sunny\" : 0.4 * (0.6) * 0.4 * (0.1) * 0.3 * (0.6),\n",
    "\"Sunny-->Rainy-->Rainy\" : 0.4 * (0.6) * 0.4 * (0.1) * 0.7 * (0.1),\n",
    "\"Rainy-->Sunny-->Sunny\" : 0.6 * (0.1) * 0.3 * (0.6) * 0.6 * (0.6),\n",
    "\"Rainy-->Sunny-->Rainy\" : 0.6 * (0.1) * 0.3 * (0.6) * 0.4 * (0.1),\n",
    "\"Rainy-->Rainy-->Sunny\" : 0.6 * (0.1) * 0.7 * (0.1) * 0.3 * (0.6),\n",
    "\"Rainy-->Rainy-->Rainy\" : 0.6 * (0.1) * 0.7 * (0.1) * 0.7 * (0.1),\n",
    "}\n",
    "\n",
    "for path, prob in GoundTruths.items():\n",
    "    print(path, \":\", prob)"
   ]
  },
  {
   "cell_type": "markdown",
   "metadata": {},
   "source": [
    "### 根據上述條件, 寫出Viterbi應用程式"
   ]
  },
  {
   "cell_type": "code",
   "execution_count": 2,
   "metadata": {},
   "outputs": [],
   "source": [
    "observations           = ('dry', 'dry', 'dry') #實際上觀察到的狀態為dry, dry, dry\n",
    "states                 = ('sunny', \n",
    "                          'rainy')\n",
    "start_probability      = {'sunny': 0.4, \n",
    "                          'rainy': 0.6}\n",
    "transition_probability = {'sunny': {'sunny':0.6, 'rainy':0.4},\n",
    "                          'rainy': {'sunny':0.3, 'rainy':0.7}}\n",
    "emission_probatility   = {'sunny': {'dry':0.6, 'damp':0.3, 'soggy':0.1},\n",
    "                          'rainy': {'dry':0.1, 'damp':0.4, 'soggy':0.5}}"
   ]
  },
  {
   "cell_type": "code",
   "execution_count": 4,
   "metadata": {},
   "outputs": [],
   "source": [
    "def viterbi(obs, states, start_p, trans_p, emit_p):\n",
    "    V = [{}]\n",
    "    path = {}\n",
    "\n",
    "    # Initialize base cases (t == 0)\n",
    "    t = 0\n",
    "    for cur_state in states:\n",
    "        # get current prob\n",
    "        pre_prob = start_p[cur_state]\n",
    "        cur_prob = pre_prob * emit_p[cur_state][obs[t]]\n",
    "        # assign prob & path\n",
    "        V[t][cur_state] = cur_prob\n",
    "        path[cur_state] = [cur_state,]\n",
    "        \n",
    "    # Run Viterbi for t > 0\n",
    "    for t in range(1, len(obs)):\n",
    "        V.append({})\n",
    "        temp_path = {}\n",
    "        for cur_state in states:        \n",
    "            # get current prob & path\n",
    "            prob_path_paris = []\n",
    "            for pre_state in states:            \n",
    "                pre_prob = V[t-1][pre_state]\n",
    "                cur_prob = pre_prob * trans_p[pre_state][cur_state] * emit_p[cur_state][obs[t]]\n",
    "                prob_path_paris.append([cur_prob, [pre_state, cur_state]])        \n",
    "            best_prob, best_path = max(prob_path_paris)        \n",
    "            # assign prob & path\n",
    "            V[t][cur_state] = best_prob\n",
    "            temp_path[cur_state] = path[best_path[0]][:-1] + best_path        \n",
    "        # update path\n",
    "        path = temp_path \n",
    "    \n",
    "    #(prob, state) = max([(V[len(obs) - 1][final_state], final_state) for final_state in states])\n",
    "    #return (prob, path[state])\n",
    "    cur_t = len(obs) - 1\n",
    "    max_state = max(V[cur_t])\n",
    "    max_prob = V[cur_t][max_state]\n",
    "    return max_prob, path[max_state]\n",
    "    "
   ]
  },
  {
   "cell_type": "code",
   "execution_count": 5,
   "metadata": {},
   "outputs": [],
   "source": [
    "result = viterbi(observations,\n",
    "                 states,\n",
    "                 start_probability,\n",
    "                 transition_probability,\n",
    "                 emission_probatility)"
   ]
  },
  {
   "cell_type": "code",
   "execution_count": 6,
   "metadata": {},
   "outputs": [
    {
     "data": {
      "text/plain": [
       "(0.031103999999999993, ['sunny', 'sunny', 'sunny'])"
      ]
     },
     "execution_count": 6,
     "metadata": {},
     "output_type": "execute_result"
    }
   ],
   "source": [
    "result"
   ]
  },
  {
   "cell_type": "code",
   "execution_count": null,
   "metadata": {},
   "outputs": [],
   "source": []
  }
 ],
 "metadata": {
  "kernelspec": {
   "display_name": "torch",
   "language": "python",
   "name": "torch"
  },
  "language_info": {
   "codemirror_mode": {
    "name": "ipython",
    "version": 3
   },
   "file_extension": ".py",
   "mimetype": "text/x-python",
   "name": "python",
   "nbconvert_exporter": "python",
   "pygments_lexer": "ipython3",
   "version": "3.8.3"
  }
 },
 "nbformat": 4,
 "nbformat_minor": 4
}
