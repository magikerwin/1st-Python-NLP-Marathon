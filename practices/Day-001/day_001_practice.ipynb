{
 "cells": [
  {
   "cell_type": "markdown",
   "metadata": {},
   "source": [
    "# 作業目標：運用課程所學，操作字串達到預期輸出"
   ]
  },
  {
   "cell_type": "markdown",
   "metadata": {},
   "source": [
    "---"
   ]
  },
  {
   "cell_type": "markdown",
   "metadata": {},
   "source": [
    "## 讀入所需文件"
   ]
  },
  {
   "cell_type": "code",
   "execution_count": 1,
   "metadata": {},
   "outputs": [],
   "source": [
    "import pandas as pd\n",
    "#TSV文件有別於CSV的文件是使用\\t作为分隔符，CSV則是使用,作为分隔符。\n",
    "dataset = pd.read_csv(r'Restaurant_Reviews.tsv', sep='\\t')"
   ]
  },
  {
   "cell_type": "code",
   "execution_count": 2,
   "metadata": {},
   "outputs": [],
   "source": [
    "all_review = dataset['Review'].values"
   ]
  },
  {
   "cell_type": "markdown",
   "metadata": {},
   "source": [
    "---"
   ]
  },
  {
   "cell_type": "markdown",
   "metadata": {},
   "source": [
    "### 計算有多少個句子是以 . 結尾"
   ]
  },
  {
   "cell_type": "code",
   "execution_count": 3,
   "metadata": {},
   "outputs": [
    {
     "name": "stdout",
     "output_type": "stream",
     "text": [
      "There are 819 sentences end with .\n"
     ]
    }
   ],
   "source": [
    "n=0\n",
    "for text in all_review:\n",
    "    if text.endswith(\".\"):\n",
    "        n += 1\n",
    "print('There are {} sentences end with .'.format(n))"
   ]
  },
  {
   "cell_type": "markdown",
   "metadata": {},
   "source": [
    "### 將所有. 換成 ,"
   ]
  },
  {
   "cell_type": "code",
   "execution_count": 4,
   "metadata": {},
   "outputs": [],
   "source": [
    "for idx in range(len(all_review)):\n",
    "    all_review[idx] = all_review[idx].replace(\".\", \",\")"
   ]
  },
  {
   "cell_type": "code",
   "execution_count": 5,
   "metadata": {},
   "outputs": [
    {
     "data": {
      "text/plain": [
       "array(['Wow,,, Loved this place,', 'Crust is not good,',\n",
       "       'Not tasty and the texture was just nasty,',\n",
       "       'Stopped by during the late May bank holiday off Rick Steve recommendation and loved it,',\n",
       "       'The selection on the menu was great and so were the prices,',\n",
       "       'Now I am getting angry and I want my damn pho,',\n",
       "       \"Honeslty it didn't taste THAT fresh,)\",\n",
       "       'The potatoes were like rubber and you could tell they had been made up ahead of time being kept under a warmer,',\n",
       "       'The fries were great too,', 'A great touch,',\n",
       "       'Service was very prompt,', 'Would not go back,',\n",
       "       'The cashier had no care what so ever on what I had to say it still ended up being wayyy overpriced,',\n",
       "       'I tried the Cape Cod ravoli, chicken, with cranberry,,,mmmm!',\n",
       "       'I was disgusted because I was pretty sure that was human hair,',\n",
       "       'I was shocked because no signs indicate cash only,',\n",
       "       'Highly recommended,', 'Waitress was a little slow in service,',\n",
       "       'This place is not worth your time, let alone Vegas,',\n",
       "       'did not like at all,'], dtype=object)"
      ]
     },
     "execution_count": 5,
     "metadata": {},
     "output_type": "execute_result"
    }
   ],
   "source": [
    "all_review[:20]"
   ]
  },
  {
   "cell_type": "markdown",
   "metadata": {},
   "source": [
    "### 將所有sentence 中的 the 置換成 The"
   ]
  },
  {
   "cell_type": "code",
   "execution_count": 6,
   "metadata": {},
   "outputs": [],
   "source": [
    "for idx in range(len(all_review)):\n",
    "    all_review[idx] = all_review[idx].replace(\"the\", \"The\")"
   ]
  },
  {
   "cell_type": "code",
   "execution_count": 7,
   "metadata": {},
   "outputs": [
    {
     "data": {
      "text/plain": [
       "array(['Wow,,, Loved this place,', 'Crust is not good,',\n",
       "       'Not tasty and The texture was just nasty,',\n",
       "       'Stopped by during The late May bank holiday off Rick Steve recommendation and loved it,',\n",
       "       'The selection on The menu was great and so were The prices,',\n",
       "       'Now I am getting angry and I want my damn pho,',\n",
       "       \"Honeslty it didn't taste THAT fresh,)\",\n",
       "       'The potatoes were like rubber and you could tell They had been made up ahead of time being kept under a warmer,',\n",
       "       'The fries were great too,', 'A great touch,',\n",
       "       'Service was very prompt,', 'Would not go back,',\n",
       "       'The cashier had no care what so ever on what I had to say it still ended up being wayyy overpriced,',\n",
       "       'I tried The Cape Cod ravoli, chicken, with cranberry,,,mmmm!',\n",
       "       'I was disgusted because I was pretty sure that was human hair,',\n",
       "       'I was shocked because no signs indicate cash only,',\n",
       "       'Highly recommended,', 'Waitress was a little slow in service,',\n",
       "       'This place is not worth your time, let alone Vegas,',\n",
       "       'did not like at all,'], dtype=object)"
      ]
     },
     "execution_count": 7,
     "metadata": {},
     "output_type": "execute_result"
    }
   ],
   "source": [
    "all_review[:20]"
   ]
  },
  {
   "cell_type": "markdown",
   "metadata": {},
   "source": [
    "### 將偶數句子全部轉換為大寫，奇數句子全部轉換為小寫"
   ]
  },
  {
   "cell_type": "code",
   "execution_count": 8,
   "metadata": {},
   "outputs": [],
   "source": [
    "for idx in range(len(all_review)):\n",
    "    if idx % 2 == 0:\n",
    "        all_review[idx] = all_review[idx].upper()\n",
    "    else:\n",
    "        all_review[idx] = all_review[idx].lower()"
   ]
  },
  {
   "cell_type": "code",
   "execution_count": 9,
   "metadata": {},
   "outputs": [
    {
     "data": {
      "text/plain": [
       "array(['WOW,,, LOVED THIS PLACE,', 'crust is not good,',\n",
       "       'NOT TASTY AND THE TEXTURE WAS JUST NASTY,',\n",
       "       'stopped by during the late may bank holiday off rick steve recommendation and loved it,',\n",
       "       'THE SELECTION ON THE MENU WAS GREAT AND SO WERE THE PRICES,',\n",
       "       'now i am getting angry and i want my damn pho,',\n",
       "       \"HONESLTY IT DIDN'T TASTE THAT FRESH,)\",\n",
       "       'the potatoes were like rubber and you could tell they had been made up ahead of time being kept under a warmer,',\n",
       "       'THE FRIES WERE GREAT TOO,', 'a great touch,',\n",
       "       'SERVICE WAS VERY PROMPT,', 'would not go back,',\n",
       "       'THE CASHIER HAD NO CARE WHAT SO EVER ON WHAT I HAD TO SAY IT STILL ENDED UP BEING WAYYY OVERPRICED,',\n",
       "       'i tried the cape cod ravoli, chicken, with cranberry,,,mmmm!',\n",
       "       'I WAS DISGUSTED BECAUSE I WAS PRETTY SURE THAT WAS HUMAN HAIR,',\n",
       "       'i was shocked because no signs indicate cash only,',\n",
       "       'HIGHLY RECOMMENDED,', 'waitress was a little slow in service,',\n",
       "       'THIS PLACE IS NOT WORTH YOUR TIME, LET ALONE VEGAS,',\n",
       "       'did not like at all,'], dtype=object)"
      ]
     },
     "execution_count": 9,
     "metadata": {},
     "output_type": "execute_result"
    }
   ],
   "source": [
    "all_review[:20]"
   ]
  },
  {
   "cell_type": "markdown",
   "metadata": {},
   "source": [
    "### 將所有句子合併在一起，並以' / ' 為間隔"
   ]
  },
  {
   "cell_type": "code",
   "execution_count": 10,
   "metadata": {},
   "outputs": [
    {
     "data": {
      "text/plain": [
       "\"WOW,,, LOVED THIS PLACE,/crust is not good,/NOT TASTY AND THE TEXTURE WAS JUST NASTY,/stopped by during the late may bank holiday off rick steve recommendation and loved it,/THE SELECTION ON THE MENU WAS GREAT AND SO WERE THE PRICES,/now i am getting angry and i want my damn pho,/HONESLTY IT DIDN'T TASTE THAT FRESH,)/the potatoes were like rubber and you could tell they had been made up ahead of time being kept under a warmer,/THE FRIES WERE GREAT TOO,/a great touch,/SERVICE WAS VERY PROMPT,/would not go back,/THE CASHIER HAD NO CARE WHAT SO EVER ON WHAT I HAD TO SAY IT STILL ENDED UP BEING WAYYY OVERPRICED,/i tried the cape cod ravoli, chicken, with cranberry,,,mmmm!/I WAS DISGUSTED BECAUSE I WAS PRETTY SURE THAT WAS HUMAN HAIR,/i was shocked because no signs indicate cash only,/HIGHLY RECOMMENDED,/waitress was a little slow in service,/THIS PLACE IS NOT WORTH YOUR TIME, LET ALONE VEGAS,/did not like at all,/THE BURRITTOS BLAH!/the food, amazing,/SERVICE IS ALSO CUTE,/i could care les\""
      ]
     },
     "execution_count": 10,
     "metadata": {},
     "output_type": "execute_result"
    }
   ],
   "source": [
    "\"/\".join(all_review)[:1000]"
   ]
  },
  {
   "cell_type": "code",
   "execution_count": null,
   "metadata": {},
   "outputs": [],
   "source": []
  }
 ],
 "metadata": {
  "kernelspec": {
   "display_name": "torch",
   "language": "python",
   "name": "torch"
  },
  "language_info": {
   "codemirror_mode": {
    "name": "ipython",
    "version": 3
   },
   "file_extension": ".py",
   "mimetype": "text/x-python",
   "name": "python",
   "nbconvert_exporter": "python",
   "pygments_lexer": "ipython3",
   "version": "3.8.3"
  }
 },
 "nbformat": 4,
 "nbformat_minor": 4
}
